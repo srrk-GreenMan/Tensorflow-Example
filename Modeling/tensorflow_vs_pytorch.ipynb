{
  "nbformat": 4,
  "nbformat_minor": 0,
  "metadata": {
    "colab": {
      "name": "tensorflow vs. pytorch.ipynb",
      "provenance": [],
      "collapsed_sections": [],
      "authorship_tag": "ABX9TyNieOECemaQT+3eoIXEb4dx",
      "include_colab_link": true
    },
    "kernelspec": {
      "name": "python3",
      "display_name": "Python 3"
    }
  },
  "cells": [
    {
      "cell_type": "markdown",
      "metadata": {
        "id": "view-in-github",
        "colab_type": "text"
      },
      "source": [
        "<a href=\"https://colab.research.google.com/github/serereuk-tf/Tensorflow-Example/blob/main/Day2/tensorflow_vs_pytorch.ipynb\" target=\"_parent\"><img src=\"https://colab.research.google.com/assets/colab-badge.svg\" alt=\"Open In Colab\"/></a>"
      ]
    },
    {
      "cell_type": "markdown",
      "metadata": {
        "id": "l5flNJCiz-UF"
      },
      "source": [
        "# Tensorflow와 Pytorch간 모듈의 차이점 분석\n",
        "\n",
        "## 1. Conv 모듈\n",
        "\n",
        "* Pytorch와 Tensorflow의 가장 큰 차이점은 이미지 shape 순서!\n",
        "    * Pytorch 같은 경우 BCWH의 형태이지만\n",
        "    * Tensorflow의 경우에는 BWHC의 형태로 구축해줘야함\n",
        "\n",
        "* input channel을 집어넣어야하는지에 대한 여부\n",
        "    * Tensorflow는 input channel을 안 집어넣어도 됨 -> 다이나믹하게 계산 가능하고 `Input`레이어로 이후에 다 계산됨\n",
        "    * 하지만 토치는 직접 정해줘야하는 단점이 있\n",
        "\n",
        "* 또 다른 차이점은 Padding\n",
        "    * Tensorflow 같은 경우 padding에 대해서 same을 통해 복잡한 계산 필요 X\n",
        "    * 하지만 torch 같은 경우 연산 해줘야함!\n",
        "\n",
        "\n",
        "\n"
      ]
    },
    {
      "cell_type": "code",
      "metadata": {
        "id": "i90dPLWCzkTt"
      },
      "source": [
        "import numpy as np\n",
        "\n",
        "# Framework\n",
        "import torch \n",
        "import tensorflow as tf"
      ],
      "execution_count": 1,
      "outputs": []
    },
    {
      "cell_type": "code",
      "metadata": {
        "id": "wrW7tf2PNPfp"
      },
      "source": [
        "np.random.seed(0)\n",
        "\n",
        "ex_for_TF = np.random.rand(1, 15, 15, 3).astype(np.float32)"
      ],
      "execution_count": null,
      "outputs": []
    },
    {
      "cell_type": "code",
      "metadata": {
        "id": "F8c-h6ghNwuL",
        "colab": {
          "base_uri": "https://localhost:8080/"
        },
        "outputId": "191d1419-829a-4d0b-f88d-d5b5a054793e"
      },
      "source": [
        "conv_layer = tf.keras.layers.Conv2D(filters=1, kernel_size=3, padding='same')\n",
        "print('tensorflow shape : {}'.format(conv_layer(ex_for_TF).shape))"
      ],
      "execution_count": null,
      "outputs": [
        {
          "output_type": "stream",
          "text": [
            "tensorflow shape : (1, 15, 15, 1)\n"
          ],
          "name": "stdout"
        }
      ]
    },
    {
      "cell_type": "markdown",
      "metadata": {
        "id": "y0jYjNmgCRuk"
      },
      "source": [
        "아래와 같이 shape를 변경해줘서 인풋으로 집어넣어주자!"
      ]
    },
    {
      "cell_type": "code",
      "metadata": {
        "id": "2oC_8NSFOJM2",
        "colab": {
          "base_uri": "https://localhost:8080/"
        },
        "outputId": "90eb5226-5d21-42de-cf1c-143b84c925ad"
      },
      "source": [
        "ex_for_torch = torch.tensor(ex_for_TF.reshape(1, 3, 15, 15))\n",
        "\n",
        "conv_layer_torch = torch.nn.Conv2d(in_channels=3, out_channels=1,\n",
        "                                   kernel_size=3, padding=1)\n",
        "\n",
        "print('tensorflow shape : {}'.format(conv_layer_torch(ex_for_torch).shape))"
      ],
      "execution_count": null,
      "outputs": [
        {
          "output_type": "stream",
          "text": [
            "tensorflow shape : torch.Size([1, 1, 15, 15])\n"
          ],
          "name": "stdout"
        }
      ]
    },
    {
      "cell_type": "markdown",
      "metadata": {
        "id": "ACDU0-b5DNsG"
      },
      "source": [
        "## 2. MaxPool2D\n",
        "\n",
        "* 역시 channel shape가 다름\n",
        "\n",
        "* TF : pool_size Torch : kernel_size\n"
      ]
    },
    {
      "cell_type": "code",
      "metadata": {
        "id": "KJN1Wjr1BQrh"
      },
      "source": [
        "ex_for_TF = np.arange(9).reshape(1, 3, 3, 1).astype(np.float32)"
      ],
      "execution_count": 5,
      "outputs": []
    },
    {
      "cell_type": "code",
      "metadata": {
        "colab": {
          "base_uri": "https://localhost:8080/"
        },
        "id": "0PfVDnlaDeZP",
        "outputId": "d336f318-2fa2-42dc-ebb5-eac39b244640"
      },
      "source": [
        "maxpool2d_layer = tf.keras.layers.MaxPool2D(pool_size=2, strides=1)\n",
        "print(maxpool2d_layer(ex_for_TF).numpy())\n",
        "print('tensorflow shape : {}'.format(maxpool2d_layer(ex_for_TF).shape))"
      ],
      "execution_count": 15,
      "outputs": [
        {
          "output_type": "stream",
          "text": [
            "[[[[4.]\n",
            "   [5.]]\n",
            "\n",
            "  [[7.]\n",
            "   [8.]]]]\n",
            "tensorflow shape : (1, 2, 2, 1)\n"
          ],
          "name": "stdout"
        }
      ]
    },
    {
      "cell_type": "code",
      "metadata": {
        "colab": {
          "base_uri": "https://localhost:8080/"
        },
        "id": "kV2YzEQxDfxV",
        "outputId": "82a20df6-57c0-4a7e-85bc-94ba033c8751"
      },
      "source": [
        "ex_for_torch = torch.tensor(ex_for_TF.reshape(1, 1, 3, 3))\n",
        "\n",
        "maxpool2d_layer_torch = torch.nn.MaxPool2d(kernel_size=2, stride=1)\n",
        "print(maxpool2d_layer_torch(ex_for_torch))\n",
        "print('tensorflow shape : {}'.format(maxpool2d_layer_torch(ex_for_torch).shape))"
      ],
      "execution_count": 16,
      "outputs": [
        {
          "output_type": "stream",
          "text": [
            "tensor([[[[4., 5.],\n",
            "          [7., 8.]]]])\n",
            "tensorflow shape : torch.Size([1, 1, 2, 2])\n"
          ],
          "name": "stdout"
        }
      ]
    },
    {
      "cell_type": "markdown",
      "metadata": {
        "id": "AklBgXmYMj7g"
      },
      "source": [
        "## 3. Batchnorm"
      ]
    },
    {
      "cell_type": "code",
      "metadata": {
        "id": "ACWPHJPkMn6c"
      },
      "source": [
        "np.random.seed(0)\n",
        "\n",
        "ex_for_TF = np.random.rand(1, 15, 15, 3).astype(np.float32)"
      ],
      "execution_count": null,
      "outputs": []
    }
  ]
}